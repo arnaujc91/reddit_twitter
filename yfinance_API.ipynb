{
 "cells": [
  {
   "cell_type": "code",
   "execution_count": null,
   "id": "angry-guarantee",
   "metadata": {},
   "outputs": [],
   "source": [
    "# Download tickers for all stocks:\n",
    "#  https://github.com/Benny-/Yahoo-ticker-symbol-downloader\n",
    "#  https://github.com/shilewenuw/get_all_tickers\n",
    "#  https://github.com/dpguthrie/yahooquery"
   ]
  },
  {
   "cell_type": "code",
   "execution_count": 157,
   "id": "featured-programmer",
   "metadata": {},
   "outputs": [],
   "source": [
    "import yfinance as yf\n",
    "import plotly.graph_objects as go\n",
    "import pandas as pd\n",
    "import numpy as np\n",
    "import datetime\n",
    "import keras\n",
    "\n",
    "# https://towardsdatascience.com/time-series-forecasting-with-deep-learning-and-attention-mechanism-2d001fc871fcß\n",
    "# https://levelup.gitconnected.com/building-seq2seq-lstm-with-luong-attention-in-keras-for-time-series-forecasting-1ee00958decb"
   ]
  },
  {
   "cell_type": "code",
   "execution_count": 25,
   "id": "becoming-shannon",
   "metadata": {},
   "outputs": [],
   "source": [
    "yahoo_tickers = pd.read_csv('generic.csv')"
   ]
  },
  {
   "cell_type": "code",
   "execution_count": 26,
   "id": "extra-applicant",
   "metadata": {},
   "outputs": [
    {
     "data": {
      "text/plain": [
       "Index(['Ticker', 'Name', 'Exchange', 'exchangeDisplay', 'Type', 'TypeDisplay'], dtype='object')"
      ]
     },
     "execution_count": 26,
     "metadata": {},
     "output_type": "execute_result"
    }
   ],
   "source": [
    "yahoo_tickers.columns"
   ]
  },
  {
   "cell_type": "code",
   "execution_count": 149,
   "id": "faced-fifty",
   "metadata": {},
   "outputs": [
    {
     "data": {
      "text/html": [
       "<div>\n",
       "<style scoped>\n",
       "    .dataframe tbody tr th:only-of-type {\n",
       "        vertical-align: middle;\n",
       "    }\n",
       "\n",
       "    .dataframe tbody tr th {\n",
       "        vertical-align: top;\n",
       "    }\n",
       "\n",
       "    .dataframe thead th {\n",
       "        text-align: right;\n",
       "    }\n",
       "</style>\n",
       "<table border=\"1\" class=\"dataframe\">\n",
       "  <thead>\n",
       "    <tr style=\"text-align: right;\">\n",
       "      <th></th>\n",
       "      <th>Ticker</th>\n",
       "      <th>Name</th>\n",
       "      <th>Exchange</th>\n",
       "      <th>exchangeDisplay</th>\n",
       "      <th>Type</th>\n",
       "      <th>TypeDisplay</th>\n",
       "    </tr>\n",
       "  </thead>\n",
       "  <tbody>\n",
       "    <tr>\n",
       "      <th>0</th>\n",
       "      <td>B</td>\n",
       "      <td>Barnes Group Inc.</td>\n",
       "      <td>NYQ</td>\n",
       "      <td>NYSE</td>\n",
       "      <td>S</td>\n",
       "      <td>Equity</td>\n",
       "    </tr>\n",
       "    <tr>\n",
       "      <th>1</th>\n",
       "      <td>BA</td>\n",
       "      <td>The Boeing Company</td>\n",
       "      <td>NYQ</td>\n",
       "      <td>NYSE</td>\n",
       "      <td>S</td>\n",
       "      <td>Equity</td>\n",
       "    </tr>\n",
       "    <tr>\n",
       "      <th>2</th>\n",
       "      <td>BMRA</td>\n",
       "      <td>Biomerica, Inc.</td>\n",
       "      <td>PNK</td>\n",
       "      <td>OTC Markets</td>\n",
       "      <td>S</td>\n",
       "      <td>Equity</td>\n",
       "    </tr>\n",
       "    <tr>\n",
       "      <th>3</th>\n",
       "      <td>BOACU</td>\n",
       "      <td>Bluescape Opportunities Acquisition Corp.</td>\n",
       "      <td>NYS</td>\n",
       "      <td>NYSE</td>\n",
       "      <td>S</td>\n",
       "      <td>Equity</td>\n",
       "    </tr>\n",
       "    <tr>\n",
       "      <th>4</th>\n",
       "      <td>BNL</td>\n",
       "      <td>Broadstone Net Lease, Inc.</td>\n",
       "      <td>NYS</td>\n",
       "      <td>NYSE</td>\n",
       "      <td>S</td>\n",
       "      <td>Equity</td>\n",
       "    </tr>\n",
       "  </tbody>\n",
       "</table>\n",
       "</div>"
      ],
      "text/plain": [
       "  Ticker                                       Name Exchange exchangeDisplay  \\\n",
       "0      B                          Barnes Group Inc.      NYQ            NYSE   \n",
       "1     BA                         The Boeing Company      NYQ            NYSE   \n",
       "2   BMRA                            Biomerica, Inc.      PNK     OTC Markets   \n",
       "3  BOACU  Bluescape Opportunities Acquisition Corp.      NYS            NYSE   \n",
       "4    BNL                 Broadstone Net Lease, Inc.      NYS            NYSE   \n",
       "\n",
       "  Type TypeDisplay  \n",
       "0    S      Equity  \n",
       "1    S      Equity  \n",
       "2    S      Equity  \n",
       "3    S      Equity  \n",
       "4    S      Equity  "
      ]
     },
     "execution_count": 149,
     "metadata": {},
     "output_type": "execute_result"
    }
   ],
   "source": [
    "yahoo_tickers.head()"
   ]
  },
  {
   "cell_type": "code",
   "execution_count": 152,
   "id": "abroad-making",
   "metadata": {},
   "outputs": [],
   "source": [
    "num_tickers = len(yahoo_tickers)\n",
    "def random_ticker():\n",
    "    return yahoo_tickers.loc[np.random.randint(num_tickers)]  "
   ]
  },
  {
   "cell_type": "code",
   "execution_count": 100,
   "id": "empirical-session",
   "metadata": {},
   "outputs": [
    {
     "data": {
      "text/plain": [
       "array(['S', 'E', 'M', 'I', 'F', 'C', 'O', 'B', 'Y'], dtype=object)"
      ]
     },
     "execution_count": 100,
     "metadata": {},
     "output_type": "execute_result"
    }
   ],
   "source": [
    "yahoo_tickers.Type.unique()"
   ]
  },
  {
   "cell_type": "code",
   "execution_count": 101,
   "id": "inclusive-operations",
   "metadata": {},
   "outputs": [
    {
     "data": {
      "text/plain": [
       "array(['Equity', 'ETF', 'Fund', 'Index', 'Futures', 'Currency', 'Option',\n",
       "       'CRYPTOCURRENCY', 'MoneyMarket'], dtype=object)"
      ]
     },
     "execution_count": 101,
     "metadata": {},
     "output_type": "execute_result"
    }
   ],
   "source": [
    "yahoo_tickers.TypeDisplay.unique()"
   ]
  },
  {
   "cell_type": "code",
   "execution_count": 27,
   "id": "sharp-stations",
   "metadata": {},
   "outputs": [
    {
     "data": {
      "text/plain": [
       "array(['NYSE', 'OTC Markets', 'NASDAQ', 'NYSE MKT', 'NYSEArca', 'Toronto',\n",
       "       'OTC BB', 'Australian', 'Sao Paolo', 'NASDAQ GIDS', 'Oslo',\n",
       "       'NY Mercantile', 'Industry', 'Berlin', 'Dusseldorf Stock Exchange',\n",
       "       'Munich', 'Dow Jones', 'Frankfurt', 'Singapore', 'Stuttgart',\n",
       "       'Hamburg', 'Chicago Board Options Exchange',\n",
       "       'Prague Stock Exchange', 'XETRA', 'Paris', 'Swiss', 'Irish',\n",
       "       'Mexico', 'Hong Kong', 'CDNX', 'Buenos Aires', 'London',\n",
       "       'New York Board of Trade', 'Euronext', 'Tokyo Stock Exchange',\n",
       "       'NSE', 'Amsterdam', 'CNQ', 'FTSEGlobal Index', 'Milan', 'Vienna',\n",
       "       'Chicago Mercantile Exchange', 'Chicago Board of Trade', 'Taiwan',\n",
       "       'SNP', 'Tel Aviv', 'New Zealand', 'Copenhagen', 'Stockholm',\n",
       "       'Bombay', 'Shanghai', 'Hanover', 'Madrid Stock Exchange CATS',\n",
       "       'Johannesburg Stock Exchange', 'KOSDAQ', 'CCY', 'MCX',\n",
       "       'Kuala Lumpur Stock Exchange', 'RIS', 'SET', 'TLX Exchange',\n",
       "       'Osaka Stock Exchange', 'Athens', 'Jakarta',\n",
       "       'New York Commodity Exchange', 'Korea', 'Zurich Stock Exchange',\n",
       "       'Shenzhen', 'Taipei', 'Santiago Stock Exchange', 'IST', 'OPR',\n",
       "       'CCC', 'Brussels Stock Exchange',\n",
       "       'International Orderbook - London', 'Colombo Stock Exchange',\n",
       "       'Lisbon Stock Exchange', 'BUD', 'TAL', 'Caracas Stock Exchange',\n",
       "       'NEO', 'PSX', 'HEL', 'DOH', 'Barcelona', 'Saudi Stock Exchange',\n",
       "       'Cairo Stock Exchange', 'ICE', 'Sapporo Stock Exchange', 'LIT',\n",
       "       'Fukuoka Stock Exchange'], dtype=object)"
      ]
     },
     "execution_count": 27,
     "metadata": {},
     "output_type": "execute_result"
    }
   ],
   "source": [
    "yahoo_tickers.exchangeDisplay.unique()"
   ]
  },
  {
   "cell_type": "code",
   "execution_count": 106,
   "id": "starting-summit",
   "metadata": {},
   "outputs": [
    {
     "data": {
      "text/html": [
       "<div>\n",
       "<style scoped>\n",
       "    .dataframe tbody tr th:only-of-type {\n",
       "        vertical-align: middle;\n",
       "    }\n",
       "\n",
       "    .dataframe tbody tr th {\n",
       "        vertical-align: top;\n",
       "    }\n",
       "\n",
       "    .dataframe thead th {\n",
       "        text-align: right;\n",
       "    }\n",
       "</style>\n",
       "<table border=\"1\" class=\"dataframe\">\n",
       "  <thead>\n",
       "    <tr style=\"text-align: right;\">\n",
       "      <th></th>\n",
       "      <th>Ticker</th>\n",
       "      <th>Name</th>\n",
       "      <th>Exchange</th>\n",
       "      <th>exchangeDisplay</th>\n",
       "      <th>Type</th>\n",
       "      <th>TypeDisplay</th>\n",
       "    </tr>\n",
       "  </thead>\n",
       "  <tbody>\n",
       "    <tr>\n",
       "      <th>1968</th>\n",
       "      <td>^GSPC</td>\n",
       "      <td>S&amp;P 500</td>\n",
       "      <td>SNP</td>\n",
       "      <td>SNP</td>\n",
       "      <td>I</td>\n",
       "      <td>Index</td>\n",
       "    </tr>\n",
       "    <tr>\n",
       "      <th>3308</th>\n",
       "      <td>^KVRP</td>\n",
       "      <td>S&amp;P Kensho Virtual Reality Inde</td>\n",
       "      <td>SNP</td>\n",
       "      <td>SNP</td>\n",
       "      <td>I</td>\n",
       "      <td>Index</td>\n",
       "    </tr>\n",
       "    <tr>\n",
       "      <th>3312</th>\n",
       "      <td>^KVR</td>\n",
       "      <td>S&amp;P Kensho Virtual Reality Inde</td>\n",
       "      <td>SNP</td>\n",
       "      <td>SNP</td>\n",
       "      <td>I</td>\n",
       "      <td>Index</td>\n",
       "    </tr>\n",
       "    <tr>\n",
       "      <th>4175</th>\n",
       "      <td>^NJCU50TR</td>\n",
       "      <td>NJCU New Jersey 50 Total Return</td>\n",
       "      <td>SNP</td>\n",
       "      <td>SNP</td>\n",
       "      <td>I</td>\n",
       "      <td>Index</td>\n",
       "    </tr>\n",
       "    <tr>\n",
       "      <th>4177</th>\n",
       "      <td>^NJCU50PR</td>\n",
       "      <td>NJCU New Jersey 50 Price Return</td>\n",
       "      <td>SNP</td>\n",
       "      <td>SNP</td>\n",
       "      <td>I</td>\n",
       "      <td>Index</td>\n",
       "    </tr>\n",
       "    <tr>\n",
       "      <th>...</th>\n",
       "      <td>...</td>\n",
       "      <td>...</td>\n",
       "      <td>...</td>\n",
       "      <td>...</td>\n",
       "      <td>...</td>\n",
       "      <td>...</td>\n",
       "    </tr>\n",
       "    <tr>\n",
       "      <th>77889</th>\n",
       "      <td>^SYINFO</td>\n",
       "      <td>Syntax Stratified Information I</td>\n",
       "      <td>SNP</td>\n",
       "      <td>SNP</td>\n",
       "      <td>I</td>\n",
       "      <td>Index</td>\n",
       "    </tr>\n",
       "    <tr>\n",
       "      <th>77890</th>\n",
       "      <td>^SYIND</td>\n",
       "      <td>Syntax Stratified Industrials I</td>\n",
       "      <td>SNP</td>\n",
       "      <td>SNP</td>\n",
       "      <td>I</td>\n",
       "      <td>Index</td>\n",
       "    </tr>\n",
       "    <tr>\n",
       "      <th>77908</th>\n",
       "      <td>^SYLC</td>\n",
       "      <td>Syntax Stratified LargeCap Inde</td>\n",
       "      <td>SNP</td>\n",
       "      <td>SNP</td>\n",
       "      <td>I</td>\n",
       "      <td>Index</td>\n",
       "    </tr>\n",
       "    <tr>\n",
       "      <th>79354</th>\n",
       "      <td>^TPXR</td>\n",
       "      <td>S&amp;P CoreLogic Case-Shiller Tamp</td>\n",
       "      <td>SNP</td>\n",
       "      <td>SNP</td>\n",
       "      <td>I</td>\n",
       "      <td>Index</td>\n",
       "    </tr>\n",
       "    <tr>\n",
       "      <th>80115</th>\n",
       "      <td>^TFMSHIPP</td>\n",
       "      <td>TFMS HIPS Index</td>\n",
       "      <td>SNP</td>\n",
       "      <td>SNP</td>\n",
       "      <td>I</td>\n",
       "      <td>Index</td>\n",
       "    </tr>\n",
       "  </tbody>\n",
       "</table>\n",
       "<p>561 rows × 6 columns</p>\n",
       "</div>"
      ],
      "text/plain": [
       "          Ticker                             Name Exchange exchangeDisplay  \\\n",
       "1968       ^GSPC                          S&P 500      SNP             SNP   \n",
       "3308       ^KVRP  S&P Kensho Virtual Reality Inde      SNP             SNP   \n",
       "3312        ^KVR  S&P Kensho Virtual Reality Inde      SNP             SNP   \n",
       "4175   ^NJCU50TR  NJCU New Jersey 50 Total Return      SNP             SNP   \n",
       "4177   ^NJCU50PR  NJCU New Jersey 50 Price Return      SNP             SNP   \n",
       "...          ...                              ...      ...             ...   \n",
       "77889    ^SYINFO  Syntax Stratified Information I      SNP             SNP   \n",
       "77890     ^SYIND  Syntax Stratified Industrials I      SNP             SNP   \n",
       "77908      ^SYLC  Syntax Stratified LargeCap Inde      SNP             SNP   \n",
       "79354      ^TPXR  S&P CoreLogic Case-Shiller Tamp      SNP             SNP   \n",
       "80115  ^TFMSHIPP                  TFMS HIPS Index      SNP             SNP   \n",
       "\n",
       "      Type TypeDisplay  \n",
       "1968     I       Index  \n",
       "3308     I       Index  \n",
       "3312     I       Index  \n",
       "4175     I       Index  \n",
       "4177     I       Index  \n",
       "...    ...         ...  \n",
       "77889    I       Index  \n",
       "77890    I       Index  \n",
       "77908    I       Index  \n",
       "79354    I       Index  \n",
       "80115    I       Index  \n",
       "\n",
       "[561 rows x 6 columns]"
      ]
     },
     "execution_count": 106,
     "metadata": {},
     "output_type": "execute_result"
    }
   ],
   "source": [
    "yahoo_tickers[yahoo_tickers.exchangeDisplay=='SNP']"
   ]
  },
  {
   "cell_type": "code",
   "execution_count": 102,
   "id": "exclusive-serbia",
   "metadata": {},
   "outputs": [
    {
     "data": {
      "text/plain": [
       "array(['Index', 'ETF'], dtype=object)"
      ]
     },
     "execution_count": 102,
     "metadata": {},
     "output_type": "execute_result"
    }
   ],
   "source": [
    "yahoo_tickers[yahoo_tickers.Ticker.apply(lambda x: x.startswith('^')) ].TypeDisplay.unique()"
   ]
  },
  {
   "cell_type": "code",
   "execution_count": 99,
   "id": "common-stick",
   "metadata": {},
   "outputs": [
    {
     "data": {
      "text/html": [
       "<div>\n",
       "<style scoped>\n",
       "    .dataframe tbody tr th:only-of-type {\n",
       "        vertical-align: middle;\n",
       "    }\n",
       "\n",
       "    .dataframe tbody tr th {\n",
       "        vertical-align: top;\n",
       "    }\n",
       "\n",
       "    .dataframe thead th {\n",
       "        text-align: right;\n",
       "    }\n",
       "</style>\n",
       "<table border=\"1\" class=\"dataframe\">\n",
       "  <thead>\n",
       "    <tr style=\"text-align: right;\">\n",
       "      <th></th>\n",
       "      <th>Ticker</th>\n",
       "      <th>Name</th>\n",
       "      <th>Exchange</th>\n",
       "      <th>exchangeDisplay</th>\n",
       "      <th>Type</th>\n",
       "      <th>TypeDisplay</th>\n",
       "    </tr>\n",
       "  </thead>\n",
       "  <tbody>\n",
       "    <tr>\n",
       "      <th>38870</th>\n",
       "      <td>^BND</td>\n",
       "      <td>VANGUARD BD IDX FD</td>\n",
       "      <td>ASE</td>\n",
       "      <td>NYSE MKT</td>\n",
       "      <td>E</td>\n",
       "      <td>ETF</td>\n",
       "    </tr>\n",
       "    <tr>\n",
       "      <th>59612</th>\n",
       "      <td>^ADFI-IV</td>\n",
       "      <td>NFIELD DYNAMIC FIXED INCOME ETF</td>\n",
       "      <td>ASE</td>\n",
       "      <td>NYSE MKT</td>\n",
       "      <td>E</td>\n",
       "      <td>ETF</td>\n",
       "    </tr>\n",
       "    <tr>\n",
       "      <th>68009</th>\n",
       "      <td>^CDC</td>\n",
       "      <td>VICTORY PTF II</td>\n",
       "      <td>NIM</td>\n",
       "      <td>NASDAQ GIDS</td>\n",
       "      <td>E</td>\n",
       "      <td>ETF</td>\n",
       "    </tr>\n",
       "    <tr>\n",
       "      <th>68011</th>\n",
       "      <td>^CID</td>\n",
       "      <td>VICTORY PTF II</td>\n",
       "      <td>NIM</td>\n",
       "      <td>NASDAQ GIDS</td>\n",
       "      <td>E</td>\n",
       "      <td>ETF</td>\n",
       "    </tr>\n",
       "    <tr>\n",
       "      <th>68013</th>\n",
       "      <td>^CSF</td>\n",
       "      <td>VICTORY PTF II</td>\n",
       "      <td>NIM</td>\n",
       "      <td>NASDAQ GIDS</td>\n",
       "      <td>E</td>\n",
       "      <td>ETF</td>\n",
       "    </tr>\n",
       "    <tr>\n",
       "      <th>68014</th>\n",
       "      <td>^CFA</td>\n",
       "      <td>VICTORY PTF II</td>\n",
       "      <td>WCB</td>\n",
       "      <td>Chicago Board Options Exchange</td>\n",
       "      <td>E</td>\n",
       "      <td>ETF</td>\n",
       "    </tr>\n",
       "  </tbody>\n",
       "</table>\n",
       "</div>"
      ],
      "text/plain": [
       "         Ticker                             Name Exchange  \\\n",
       "38870      ^BND               VANGUARD BD IDX FD      ASE   \n",
       "59612  ^ADFI-IV  NFIELD DYNAMIC FIXED INCOME ETF      ASE   \n",
       "68009      ^CDC                   VICTORY PTF II      NIM   \n",
       "68011      ^CID                   VICTORY PTF II      NIM   \n",
       "68013      ^CSF                   VICTORY PTF II      NIM   \n",
       "68014      ^CFA                   VICTORY PTF II      WCB   \n",
       "\n",
       "                      exchangeDisplay Type TypeDisplay  \n",
       "38870                        NYSE MKT    E         ETF  \n",
       "59612                        NYSE MKT    E         ETF  \n",
       "68009                     NASDAQ GIDS    E         ETF  \n",
       "68011                     NASDAQ GIDS    E         ETF  \n",
       "68013                     NASDAQ GIDS    E         ETF  \n",
       "68014  Chicago Board Options Exchange    E         ETF  "
      ]
     },
     "execution_count": 99,
     "metadata": {},
     "output_type": "execute_result"
    }
   ],
   "source": [
    " yahoo_tickers[(yahoo_tickers.Type!='I') & yahoo_tickers.Ticker.apply(lambda x: x.startswith('^'))]"
   ]
  },
  {
   "cell_type": "code",
   "execution_count": 38,
   "id": "single-luxury",
   "metadata": {},
   "outputs": [
    {
     "data": {
      "text/html": [
       "<div>\n",
       "<style scoped>\n",
       "    .dataframe tbody tr th:only-of-type {\n",
       "        vertical-align: middle;\n",
       "    }\n",
       "\n",
       "    .dataframe tbody tr th {\n",
       "        vertical-align: top;\n",
       "    }\n",
       "\n",
       "    .dataframe thead th {\n",
       "        text-align: right;\n",
       "    }\n",
       "</style>\n",
       "<table border=\"1\" class=\"dataframe\">\n",
       "  <thead>\n",
       "    <tr style=\"text-align: right;\">\n",
       "      <th></th>\n",
       "      <th>Ticker</th>\n",
       "      <th>Name</th>\n",
       "      <th>Exchange</th>\n",
       "      <th>exchangeDisplay</th>\n",
       "      <th>Type</th>\n",
       "      <th>TypeDisplay</th>\n",
       "    </tr>\n",
       "  </thead>\n",
       "  <tbody>\n",
       "    <tr>\n",
       "      <th>5</th>\n",
       "      <td>BVS</td>\n",
       "      <td>Bioventus Inc.</td>\n",
       "      <td>NMS</td>\n",
       "      <td>NASDAQ</td>\n",
       "      <td>S</td>\n",
       "      <td>Equity</td>\n",
       "    </tr>\n",
       "    <tr>\n",
       "      <th>7</th>\n",
       "      <td>BIOT</td>\n",
       "      <td>Biotech Acquisition Company</td>\n",
       "      <td>NMS</td>\n",
       "      <td>NASDAQ</td>\n",
       "      <td>S</td>\n",
       "      <td>Equity</td>\n",
       "    </tr>\n",
       "    <tr>\n",
       "      <th>9</th>\n",
       "      <td>BYTSU</td>\n",
       "      <td>BYTE Acquisition Corp.</td>\n",
       "      <td>NMS</td>\n",
       "      <td>NASDAQ</td>\n",
       "      <td>S</td>\n",
       "      <td>Equity</td>\n",
       "    </tr>\n",
       "    <tr>\n",
       "      <th>15</th>\n",
       "      <td>CENHU</td>\n",
       "      <td>Centricus Acquisition Corp.</td>\n",
       "      <td>NMS</td>\n",
       "      <td>NASDAQ</td>\n",
       "      <td>S</td>\n",
       "      <td>Equity</td>\n",
       "    </tr>\n",
       "    <tr>\n",
       "      <th>26</th>\n",
       "      <td>DBTX</td>\n",
       "      <td>Decibel Therapeutics, Inc.</td>\n",
       "      <td>NMS</td>\n",
       "      <td>NASDAQ</td>\n",
       "      <td>S</td>\n",
       "      <td>Equity</td>\n",
       "    </tr>\n",
       "    <tr>\n",
       "      <th>...</th>\n",
       "      <td>...</td>\n",
       "      <td>...</td>\n",
       "      <td>...</td>\n",
       "      <td>...</td>\n",
       "      <td>...</td>\n",
       "      <td>...</td>\n",
       "    </tr>\n",
       "    <tr>\n",
       "      <th>80512</th>\n",
       "      <td>TISEX</td>\n",
       "      <td>TIAA-CREF Quant Small-Cap Equity Fund Institut...</td>\n",
       "      <td>NAS</td>\n",
       "      <td>NASDAQ</td>\n",
       "      <td>M</td>\n",
       "      <td>Fund</td>\n",
       "    </tr>\n",
       "    <tr>\n",
       "      <th>80513</th>\n",
       "      <td>TISHX</td>\n",
       "      <td>DWS Communications Fund - Class A</td>\n",
       "      <td>NAS</td>\n",
       "      <td>NASDAQ</td>\n",
       "      <td>M</td>\n",
       "      <td>Fund</td>\n",
       "    </tr>\n",
       "    <tr>\n",
       "      <th>80514</th>\n",
       "      <td>TISRX</td>\n",
       "      <td>TIAA-CREF Short-Term Bond Fund Retirement Class</td>\n",
       "      <td>NAS</td>\n",
       "      <td>NASDAQ</td>\n",
       "      <td>M</td>\n",
       "      <td>Fund</td>\n",
       "    </tr>\n",
       "    <tr>\n",
       "      <th>80515</th>\n",
       "      <td>TISIX</td>\n",
       "      <td>TIAA-CREF Short-Term Bond Fund Institutional C...</td>\n",
       "      <td>NAS</td>\n",
       "      <td>NASDAQ</td>\n",
       "      <td>M</td>\n",
       "      <td>Fund</td>\n",
       "    </tr>\n",
       "    <tr>\n",
       "      <th>80516</th>\n",
       "      <td>TISWX</td>\n",
       "      <td>TIAA-CREF S&amp;P 500 Index Fund Class W</td>\n",
       "      <td>NAS</td>\n",
       "      <td>NASDAQ</td>\n",
       "      <td>M</td>\n",
       "      <td>Fund</td>\n",
       "    </tr>\n",
       "  </tbody>\n",
       "</table>\n",
       "<p>16994 rows × 6 columns</p>\n",
       "</div>"
      ],
      "text/plain": [
       "      Ticker                                               Name Exchange  \\\n",
       "5        BVS                                     Bioventus Inc.      NMS   \n",
       "7       BIOT                        Biotech Acquisition Company      NMS   \n",
       "9      BYTSU                             BYTE Acquisition Corp.      NMS   \n",
       "15     CENHU                        Centricus Acquisition Corp.      NMS   \n",
       "26      DBTX                         Decibel Therapeutics, Inc.      NMS   \n",
       "...      ...                                                ...      ...   \n",
       "80512  TISEX  TIAA-CREF Quant Small-Cap Equity Fund Institut...      NAS   \n",
       "80513  TISHX                  DWS Communications Fund - Class A      NAS   \n",
       "80514  TISRX    TIAA-CREF Short-Term Bond Fund Retirement Class      NAS   \n",
       "80515  TISIX  TIAA-CREF Short-Term Bond Fund Institutional C...      NAS   \n",
       "80516  TISWX               TIAA-CREF S&P 500 Index Fund Class W      NAS   \n",
       "\n",
       "      exchangeDisplay Type TypeDisplay  \n",
       "5              NASDAQ    S      Equity  \n",
       "7              NASDAQ    S      Equity  \n",
       "9              NASDAQ    S      Equity  \n",
       "15             NASDAQ    S      Equity  \n",
       "26             NASDAQ    S      Equity  \n",
       "...               ...  ...         ...  \n",
       "80512          NASDAQ    M        Fund  \n",
       "80513          NASDAQ    M        Fund  \n",
       "80514          NASDAQ    M        Fund  \n",
       "80515          NASDAQ    M        Fund  \n",
       "80516          NASDAQ    M        Fund  \n",
       "\n",
       "[16994 rows x 6 columns]"
      ]
     },
     "execution_count": 38,
     "metadata": {},
     "output_type": "execute_result"
    }
   ],
   "source": [
    "yahoo_tickers[(yahoo_tickers.exchangeDisplay=='NASDAQ')]"
   ]
  },
  {
   "cell_type": "code",
   "execution_count": 21,
   "id": "express-league",
   "metadata": {},
   "outputs": [
    {
     "data": {
      "text/plain": [
       "'BNL'"
      ]
     },
     "execution_count": 21,
     "metadata": {},
     "output_type": "execute_result"
    }
   ],
   "source": [
    "yahoo_tickers.Ticker[4]"
   ]
  },
  {
   "cell_type": "code",
   "execution_count": 132,
   "id": "other-sleeve",
   "metadata": {},
   "outputs": [
    {
     "data": {
      "text/plain": [
       "'JCICW'"
      ]
     },
     "execution_count": 132,
     "metadata": {},
     "output_type": "execute_result"
    }
   ],
   "source": [
    "yahoo_tickers.Ticker[87]"
   ]
  },
  {
   "cell_type": "code",
   "execution_count": 161,
   "id": "starting-brass",
   "metadata": {},
   "outputs": [],
   "source": [
    "generic_ticker = yf.Ticker(yahoo_tickers.Ticker[3453])\n",
    "kvrp = yf.Ticker('^GSPC')\n",
    "msft = yf.Ticker(\"MSFT\")\n",
    "pfe = yf.Ticker('PFE')"
   ]
  },
  {
   "cell_type": "code",
   "execution_count": 145,
   "id": "painful-forum",
   "metadata": {},
   "outputs": [
    {
     "data": {
      "text/plain": [
       "{'zip': '10177',\n",
       " 'sector': 'Financial Services',\n",
       " 'longBusinessSummary': 'Moringa Acquisition Corp is a blank check company. The company intends to enter into a merger, share exchange, asset acquisition, share purchase, recapitalization, reorganization, or other similar business combination with one or more businesses or entities. The company was incorporated in 2020 and is based in New York, New York.',\n",
       " 'city': 'New York',\n",
       " 'phone': '212 572 6395',\n",
       " 'state': 'NY',\n",
       " 'country': 'United States',\n",
       " 'companyOfficers': [],\n",
       " 'website': 'http://www.moringaac.com',\n",
       " 'maxAge': 1,\n",
       " 'address1': '250 Park Avenue',\n",
       " 'industry': 'Shell Companies',\n",
       " 'address2': '7th Floor',\n",
       " 'previousClose': 9.94,\n",
       " 'regularMarketOpen': 9.95,\n",
       " 'twoHundredDayAverage': 10.235852,\n",
       " 'trailingAnnualDividendYield': None,\n",
       " 'payoutRatio': None,\n",
       " 'volume24Hr': None,\n",
       " 'regularMarketDayHigh': 9.95,\n",
       " 'navPrice': None,\n",
       " 'averageDailyVolume10Day': 134071,\n",
       " 'totalAssets': None,\n",
       " 'regularMarketPreviousClose': 9.94,\n",
       " 'fiftyDayAverage': 10.235852,\n",
       " 'trailingAnnualDividendRate': None,\n",
       " 'open': 9.95,\n",
       " 'toCurrency': None,\n",
       " 'averageVolume10days': 134071,\n",
       " 'expireDate': None,\n",
       " 'yield': None,\n",
       " 'algorithm': None,\n",
       " 'dividendRate': None,\n",
       " 'exDividendDate': None,\n",
       " 'beta': None,\n",
       " 'circulatingSupply': None,\n",
       " 'startDate': None,\n",
       " 'regularMarketDayLow': 9.95,\n",
       " 'priceHint': 2,\n",
       " 'currency': 'USD',\n",
       " 'regularMarketVolume': 490,\n",
       " 'lastMarket': None,\n",
       " 'maxSupply': None,\n",
       " 'openInterest': None,\n",
       " 'marketCap': None,\n",
       " 'volumeAllCurrencies': None,\n",
       " 'strikePrice': None,\n",
       " 'averageVolume': 226714,\n",
       " 'priceToSalesTrailing12Months': None,\n",
       " 'dayLow': 9.95,\n",
       " 'ask': 9.96,\n",
       " 'ytdReturn': None,\n",
       " 'askSize': 3000,\n",
       " 'volume': 490,\n",
       " 'fiftyTwoWeekHigh': 10.95,\n",
       " 'forwardPE': None,\n",
       " 'fromCurrency': None,\n",
       " 'fiveYearAvgDividendYield': None,\n",
       " 'fiftyTwoWeekLow': 9.77,\n",
       " 'bid': 9.92,\n",
       " 'tradeable': False,\n",
       " 'dividendYield': None,\n",
       " 'bidSize': 1100,\n",
       " 'dayHigh': 9.95,\n",
       " 'exchange': 'NCM',\n",
       " 'shortName': 'Moringa Acquisition Corp',\n",
       " 'longName': 'Moringa Acquisition Corp',\n",
       " 'exchangeTimezoneName': 'America/New_York',\n",
       " 'exchangeTimezoneShortName': 'EDT',\n",
       " 'isEsgPopulated': False,\n",
       " 'gmtOffSetMilliseconds': '-14400000',\n",
       " 'quoteType': 'EQUITY',\n",
       " 'symbol': 'MACAU',\n",
       " 'messageBoardId': 'finmb_702953647',\n",
       " 'market': 'us_market',\n",
       " 'annualHoldingsTurnover': None,\n",
       " 'enterpriseToRevenue': None,\n",
       " 'beta3Year': None,\n",
       " 'profitMargins': 0,\n",
       " 'enterpriseToEbitda': None,\n",
       " '52WeekChange': -0.067542195,\n",
       " 'morningStarRiskRating': None,\n",
       " 'forwardEps': None,\n",
       " 'revenueQuarterlyGrowth': None,\n",
       " 'sharesOutstanding': None,\n",
       " 'fundInceptionDate': None,\n",
       " 'annualReportExpenseRatio': None,\n",
       " 'bookValue': None,\n",
       " 'sharesShort': 12094,\n",
       " 'sharesPercentSharesOut': None,\n",
       " 'fundFamily': None,\n",
       " 'lastFiscalYearEnd': None,\n",
       " 'heldPercentInstitutions': None,\n",
       " 'netIncomeToCommon': None,\n",
       " 'trailingEps': None,\n",
       " 'lastDividendValue': None,\n",
       " 'SandP52WeekChange': 0.48840535,\n",
       " 'priceToBook': None,\n",
       " 'heldPercentInsiders': None,\n",
       " 'nextFiscalYearEnd': None,\n",
       " 'mostRecentQuarter': 1605830400,\n",
       " 'shortRatio': 0.04,\n",
       " 'sharesShortPreviousMonthDate': None,\n",
       " 'floatShares': None,\n",
       " 'enterpriseValue': 24875000,\n",
       " 'threeYearAverageReturn': None,\n",
       " 'lastSplitDate': None,\n",
       " 'lastSplitFactor': None,\n",
       " 'legalType': None,\n",
       " 'lastDividendDate': None,\n",
       " 'morningStarOverallRating': None,\n",
       " 'earningsQuarterlyGrowth': None,\n",
       " 'dateShortInterest': 1615766400,\n",
       " 'pegRatio': None,\n",
       " 'lastCapGain': None,\n",
       " 'shortPercentOfFloat': None,\n",
       " 'sharesShortPriorMonth': None,\n",
       " 'impliedSharesOutstanding': None,\n",
       " 'category': None,\n",
       " 'fiveYearAverageReturn': None,\n",
       " 'regularMarketPrice': 9.95,\n",
       " 'logo_url': 'https://logo.clearbit.com/moringaac.com'}"
      ]
     },
     "execution_count": 145,
     "metadata": {},
     "output_type": "execute_result"
    }
   ],
   "source": [
    "generic_ticker.info"
   ]
  },
  {
   "cell_type": "code",
   "execution_count": null,
   "id": "grateful-nightmare",
   "metadata": {},
   "outputs": [],
   "source": [
    "# get stock info\n",
    "generic_ticker.info"
   ]
  },
  {
   "cell_type": "code",
   "execution_count": 162,
   "id": "electronic-elements",
   "metadata": {},
   "outputs": [
    {
     "data": {
      "text/html": [
       "<div>\n",
       "<style scoped>\n",
       "    .dataframe tbody tr th:only-of-type {\n",
       "        vertical-align: middle;\n",
       "    }\n",
       "\n",
       "    .dataframe tbody tr th {\n",
       "        vertical-align: top;\n",
       "    }\n",
       "\n",
       "    .dataframe thead th {\n",
       "        text-align: right;\n",
       "    }\n",
       "</style>\n",
       "<table border=\"1\" class=\"dataframe\">\n",
       "  <thead>\n",
       "    <tr style=\"text-align: right;\">\n",
       "      <th></th>\n",
       "      <th>Open</th>\n",
       "      <th>High</th>\n",
       "      <th>Low</th>\n",
       "      <th>Close</th>\n",
       "      <th>Volume</th>\n",
       "      <th>Dividends</th>\n",
       "      <th>Stock Splits</th>\n",
       "    </tr>\n",
       "    <tr>\n",
       "      <th>Date</th>\n",
       "      <th></th>\n",
       "      <th></th>\n",
       "      <th></th>\n",
       "      <th></th>\n",
       "      <th></th>\n",
       "      <th></th>\n",
       "      <th></th>\n",
       "    </tr>\n",
       "  </thead>\n",
       "  <tbody>\n",
       "    <tr>\n",
       "      <th>2011-03-28</th>\n",
       "      <td>20.078053</td>\n",
       "      <td>20.326367</td>\n",
       "      <td>19.900685</td>\n",
       "      <td>20.078053</td>\n",
       "      <td>257040</td>\n",
       "      <td>0.0</td>\n",
       "      <td>0.0</td>\n",
       "    </tr>\n",
       "    <tr>\n",
       "      <th>2011-03-29</th>\n",
       "      <td>20.007104</td>\n",
       "      <td>20.007104</td>\n",
       "      <td>19.865209</td>\n",
       "      <td>19.936157</td>\n",
       "      <td>151200</td>\n",
       "      <td>0.0</td>\n",
       "      <td>0.0</td>\n",
       "    </tr>\n",
       "    <tr>\n",
       "      <th>2011-03-30</th>\n",
       "      <td>19.936159</td>\n",
       "      <td>20.148999</td>\n",
       "      <td>19.829737</td>\n",
       "      <td>19.900684</td>\n",
       "      <td>246240</td>\n",
       "      <td>0.0</td>\n",
       "      <td>0.0</td>\n",
       "    </tr>\n",
       "    <tr>\n",
       "      <th>2011-03-31</th>\n",
       "      <td>19.936157</td>\n",
       "      <td>20.113525</td>\n",
       "      <td>19.936157</td>\n",
       "      <td>19.936157</td>\n",
       "      <td>102600</td>\n",
       "      <td>0.0</td>\n",
       "      <td>0.0</td>\n",
       "    </tr>\n",
       "    <tr>\n",
       "      <th>2011-04-01</th>\n",
       "      <td>20.007105</td>\n",
       "      <td>20.007105</td>\n",
       "      <td>19.865210</td>\n",
       "      <td>19.900684</td>\n",
       "      <td>52920</td>\n",
       "      <td>0.0</td>\n",
       "      <td>0.0</td>\n",
       "    </tr>\n",
       "    <tr>\n",
       "      <th>...</th>\n",
       "      <td>...</td>\n",
       "      <td>...</td>\n",
       "      <td>...</td>\n",
       "      <td>...</td>\n",
       "      <td>...</td>\n",
       "      <td>...</td>\n",
       "      <td>...</td>\n",
       "    </tr>\n",
       "    <tr>\n",
       "      <th>2021-03-22</th>\n",
       "      <td>60.700001</td>\n",
       "      <td>62.200001</td>\n",
       "      <td>59.200001</td>\n",
       "      <td>60.200001</td>\n",
       "      <td>8580865</td>\n",
       "      <td>0.0</td>\n",
       "      <td>0.0</td>\n",
       "    </tr>\n",
       "    <tr>\n",
       "      <th>2021-03-23</th>\n",
       "      <td>60.500000</td>\n",
       "      <td>60.900002</td>\n",
       "      <td>58.000000</td>\n",
       "      <td>58.200001</td>\n",
       "      <td>6527320</td>\n",
       "      <td>0.0</td>\n",
       "      <td>0.0</td>\n",
       "    </tr>\n",
       "    <tr>\n",
       "      <th>2021-03-24</th>\n",
       "      <td>58.200001</td>\n",
       "      <td>59.500000</td>\n",
       "      <td>57.700001</td>\n",
       "      <td>58.599998</td>\n",
       "      <td>2452150</td>\n",
       "      <td>0.0</td>\n",
       "      <td>0.0</td>\n",
       "    </tr>\n",
       "    <tr>\n",
       "      <th>2021-03-25</th>\n",
       "      <td>59.500000</td>\n",
       "      <td>60.500000</td>\n",
       "      <td>58.200001</td>\n",
       "      <td>58.799999</td>\n",
       "      <td>4008100</td>\n",
       "      <td>0.0</td>\n",
       "      <td>0.0</td>\n",
       "    </tr>\n",
       "    <tr>\n",
       "      <th>2021-03-26</th>\n",
       "      <td>59.099998</td>\n",
       "      <td>59.799999</td>\n",
       "      <td>58.599998</td>\n",
       "      <td>59.400002</td>\n",
       "      <td>2063500</td>\n",
       "      <td>0.0</td>\n",
       "      <td>0.0</td>\n",
       "    </tr>\n",
       "  </tbody>\n",
       "</table>\n",
       "<p>2450 rows × 7 columns</p>\n",
       "</div>"
      ],
      "text/plain": [
       "                 Open       High        Low      Close   Volume  Dividends  \\\n",
       "Date                                                                         \n",
       "2011-03-28  20.078053  20.326367  19.900685  20.078053   257040        0.0   \n",
       "2011-03-29  20.007104  20.007104  19.865209  19.936157   151200        0.0   \n",
       "2011-03-30  19.936159  20.148999  19.829737  19.900684   246240        0.0   \n",
       "2011-03-31  19.936157  20.113525  19.936157  19.936157   102600        0.0   \n",
       "2011-04-01  20.007105  20.007105  19.865210  19.900684    52920        0.0   \n",
       "...               ...        ...        ...        ...      ...        ...   \n",
       "2021-03-22  60.700001  62.200001  59.200001  60.200001  8580865        0.0   \n",
       "2021-03-23  60.500000  60.900002  58.000000  58.200001  6527320        0.0   \n",
       "2021-03-24  58.200001  59.500000  57.700001  58.599998  2452150        0.0   \n",
       "2021-03-25  59.500000  60.500000  58.200001  58.799999  4008100        0.0   \n",
       "2021-03-26  59.099998  59.799999  58.599998  59.400002  2063500        0.0   \n",
       "\n",
       "            Stock Splits  \n",
       "Date                      \n",
       "2011-03-28           0.0  \n",
       "2011-03-29           0.0  \n",
       "2011-03-30           0.0  \n",
       "2011-03-31           0.0  \n",
       "2011-04-01           0.0  \n",
       "...                  ...  \n",
       "2021-03-22           0.0  \n",
       "2021-03-23           0.0  \n",
       "2021-03-24           0.0  \n",
       "2021-03-25           0.0  \n",
       "2021-03-26           0.0  \n",
       "\n",
       "[2450 rows x 7 columns]"
      ]
     },
     "execution_count": 162,
     "metadata": {},
     "output_type": "execute_result"
    }
   ],
   "source": [
    "day = datetime.date(1980,1,1)\n",
    "# get historical market data\n",
    "hist = generic_ticker.history(period=\"10y\")\n",
    "# hist.describe()\n",
    "# hist.dtypes\n",
    "# hist = hist[pd.to_datetime(hist.index).date>day]\n",
    "hist"
   ]
  },
  {
   "cell_type": "code",
   "execution_count": 163,
   "id": "interim-timing",
   "metadata": {},
   "outputs": [
    {
     "data": {
      "text/plain": [
       "<AxesSubplot:xlabel='Date'>"
      ]
     },
     "execution_count": 163,
     "metadata": {},
     "output_type": "execute_result"
    },
    {
     "data": {
      "image/png": "[encoded data removed]",
      "text/plain": [
       "<Figure size 432x288 with 1 Axes>"
      ]
     },
     "metadata": {
      "needs_background": "light"
     },
     "output_type": "display_data"
    }
   ],
   "source": [
    "hist.plot(y='Open')"
   ]
  },
  {
   "cell_type": "code",
   "execution_count": 147,
   "id": "geographic-research",
   "metadata": {},
   "outputs": [],
   "source": [
    "hist = hist.reset_index()"
   ]
  },
  {
   "cell_type": "code",
   "execution_count": 148,
   "id": "requested-awareness",
   "metadata": {},
   "outputs": [
    {
     "data": {
      "application/vnd.plotly.v1+json": {
       "config": {
        "plotlyServerURL": "https://plot.ly"
       },
       "data": [
        {
         "close": [
          10.65999984741211,
          10.800000190734863,
          10.550000190734863,
          10.520000457763672,
          10.460000038146973,
          10.399999618530273,
          10.40999984741211,
          10.319999694824219,
          10.380000114440918,
          10.170000076293945,
          10.149999618530273,
          10.050000190734863,
          10.260000228881836,
          10.260000228881836,
          10.130000114440918,
          10.25,
          10.15999984741211,
          10.109999656677246,
          10.128000259399414,
          10.1899995803833,
          10.149999618530273,
          10.09000015258789,
          9.970000267028809,
          9.960000038146973,
          9.979999542236328,
          9.920000076293945,
          9.9399995803833,
          9.949999809265137
         ],
         "high": [
          10.84000015258789,
          10.949999809265137,
          10.949999809265137,
          10.720000267028809,
          10.609999656677246,
          10.600000381469727,
          10.520000457763672,
          10.430000305175781,
          10.600000381469727,
          10.510000228881836,
          10.399999618530273,
          10.140000343322754,
          10.4399995803833,
          10.300000190734863,
          10.199999809265137,
          10.25,
          10.15999984741211,
          10.149999618530273,
          10.128000259399414,
          10.239999771118164,
          10.149999618530273,
          10.1899995803833,
          10.0600004196167,
          9.979999542236328,
          9.979999542236328,
          9.960000038146973,
          9.949000358581543,
          9.949999809265137
         ],
         "low": [
          10.619999885559082,
          10.670000076293945,
          10.539999961853027,
          10.40999984741211,
          10.399999618530273,
          10.390000343322754,
          10.399999618530273,
          10.274999618530273,
          10.319999694824219,
          10.109999656677246,
          10.149999618530273,
          10.020000457763672,
          10.050000190734863,
          10.199999809265137,
          10.079999923706055,
          10.130000114440918,
          10.15999984741211,
          10.0600004196167,
          10.086999893188477,
          10.109999656677246,
          10.079999923706055,
          10.079999923706055,
          9.960000038146973,
          9.84000015258789,
          9.930000305175781,
          9.899999618530273,
          9.770000457763672,
          9.949999809265137
         ],
         "open": [
          10.649999618530273,
          10.699999809265137,
          10.850000381469727,
          10.720000267028809,
          10.420000076293945,
          10.399999618530273,
          10.430000305175781,
          10.40999984741211,
          10.470000267028809,
          10.279999732971191,
          10.229999542236328,
          10.140000343322754,
          10.050000190734863,
          10.229999542236328,
          10.199999809265137,
          10.194999694824219,
          10.15999984741211,
          10.0600004196167,
          10.09000015258789,
          10.109999656677246,
          10.149999618530273,
          10.1899995803833,
          10.0600004196167,
          9.949999809265137,
          9.930000305175781,
          9.95300006866455,
          9.859999656677246,
          9.949999809265137
         ],
         "type": "candlestick",
         "x": [
          "2021-02-17T00:00:00",
          "2021-02-18T00:00:00",
          "2021-02-19T00:00:00",
          "2021-02-22T00:00:00",
          "2021-02-23T00:00:00",
          "2021-02-24T00:00:00",
          "2021-02-25T00:00:00",
          "2021-02-26T00:00:00",
          "2021-03-01T00:00:00",
          "2021-03-02T00:00:00",
          "2021-03-03T00:00:00",
          "2021-03-04T00:00:00",
          "2021-03-05T00:00:00",
          "2021-03-08T00:00:00",
          "2021-03-09T00:00:00",
          "2021-03-10T00:00:00",
          "2021-03-11T00:00:00",
          "2021-03-12T00:00:00",
          "2021-03-15T00:00:00",
          "2021-03-16T00:00:00",
          "2021-03-17T00:00:00",
          "2021-03-18T00:00:00",
          "2021-03-19T00:00:00",
          "2021-03-22T00:00:00",
          "2021-03-23T00:00:00",
          "2021-03-24T00:00:00",
          "2021-03-25T00:00:00",
          "2021-03-26T00:00:00"
         ]
        }
       ],
       "layout": {
        "autosize": true,
        "template": {
         "data": {
          "bar": [
           {
            "error_x": {
             "color": "#2a3f5f"
            },
            "error_y": {
             "color": "#2a3f5f"
            },
            "marker": {
             "line": {
              "color": "#E5ECF6",
              "width": 0.5
             }
            },
            "type": "bar"
           }
          ],
          "barpolar": [
           {
            "marker": {
             "line": {
              "color": "#E5ECF6",
              "width": 0.5
             }
            },
            "type": "barpolar"
           }
          ],
          "carpet": [
           {
            "aaxis": {
             "endlinecolor": "#2a3f5f",
             "gridcolor": "white",
             "linecolor": "white",
             "minorgridcolor": "white",
             "startlinecolor": "#2a3f5f"
            },
            "baxis": {
             "endlinecolor": "#2a3f5f",
             "gridcolor": "white",
             "linecolor": "white",
             "minorgridcolor": "white",
             "startlinecolor": "#2a3f5f"
            },
            "type": "carpet"
           }
          ],
          "choropleth": [
           {
            "colorbar": {
             "outlinewidth": 0,
             "ticks": ""
            },
            "type": "choropleth"
           }
          ],
          "contour": [
           {
            "colorbar": {
             "outlinewidth": 0,
             "ticks": ""
            },
            "colorscale": [
             [
              0,
              "#0d0887"
             ],
             [
              0.1111111111111111,
              "#46039f"
             ],
             [
              0.2222222222222222,
              "#7201a8"
             ],
             [
              0.3333333333333333,
              "#9c179e"
             ],
             [
              0.4444444444444444,
              "#bd3786"
             ],
             [
              0.5555555555555556,
              "#d8576b"
             ],
             [
              0.6666666666666666,
              "#ed7953"
             ],
             [
              0.7777777777777778,
              "#fb9f3a"
             ],
             [
              0.8888888888888888,
              "#fdca26"
             ],
             [
              1,
              "#f0f921"
             ]
            ],
            "type": "contour"
           }
          ],
          "contourcarpet": [
           {
            "colorbar": {
             "outlinewidth": 0,
             "ticks": ""
            },
            "type": "contourcarpet"
           }
          ],
          "heatmap": [
           {
            "colorbar": {
             "outlinewidth": 0,
             "ticks": ""
            },
            "colorscale": [
             [
              0,
              "#0d0887"
             ],
             [
              0.1111111111111111,
              "#46039f"
             ],
             [
              0.2222222222222222,
              "#7201a8"
             ],
             [
              0.3333333333333333,
              "#9c179e"
             ],
             [
              0.4444444444444444,
              "#bd3786"
             ],
             [
              0.5555555555555556,
              "#d8576b"
             ],
             [
              0.6666666666666666,
              "#ed7953"
             ],
             [
              0.7777777777777778,
              "#fb9f3a"
             ],
             [
              0.8888888888888888,
              "#fdca26"
             ],
             [
              1,
              "#f0f921"
             ]
            ],
            "type": "heatmap"
           }
          ],
          "heatmapgl": [
           {
            "colorbar": {
             "outlinewidth": 0,
             "ticks": ""
            },
            "colorscale": [
             [
              0,
              "#0d0887"
             ],
             [
              0.1111111111111111,
              "#46039f"
             ],
             [
              0.2222222222222222,
              "#7201a8"
             ],
             [
              0.3333333333333333,
              "#9c179e"
             ],
             [
              0.4444444444444444,
              "#bd3786"
             ],
             [
              0.5555555555555556,
              "#d8576b"
             ],
             [
              0.6666666666666666,
              "#ed7953"
             ],
             [
              0.7777777777777778,
              "#fb9f3a"
             ],
             [
              0.8888888888888888,
              "#fdca26"
             ],
             [
              1,
              "#f0f921"
             ]
            ],
            "type": "heatmapgl"
           }
          ],
          "histogram": [
           {
            "marker": {
             "colorbar": {
              "outlinewidth": 0,
              "ticks": ""
             }
            },
            "type": "histogram"
           }
          ],
          "histogram2d": [
           {
            "colorbar": {
             "outlinewidth": 0,
             "ticks": ""
            },
            "colorscale": [
             [
              0,
              "#0d0887"
             ],
             [
              0.1111111111111111,
              "#46039f"
             ],
             [
              0.2222222222222222,
              "#7201a8"
             ],
             [
              0.3333333333333333,
              "#9c179e"
             ],
             [
              0.4444444444444444,
              "#bd3786"
             ],
             [
              0.5555555555555556,
              "#d8576b"
             ],
             [
              0.6666666666666666,
              "#ed7953"
             ],
             [
              0.7777777777777778,
              "#fb9f3a"
             ],
             [
              0.8888888888888888,
              "#fdca26"
             ],
             [
              1,
              "#f0f921"
             ]
            ],
            "type": "histogram2d"
           }
          ],
          "histogram2dcontour": [
           {
            "colorbar": {
             "outlinewidth": 0,
             "ticks": ""
            },
            "colorscale": [
             [
              0,
              "#0d0887"
             ],
             [
              0.1111111111111111,
              "#46039f"
             ],
             [
              0.2222222222222222,
              "#7201a8"
             ],
             [
              0.3333333333333333,
              "#9c179e"
             ],
             [
              0.4444444444444444,
              "#bd3786"
             ],
             [
              0.5555555555555556,
              "#d8576b"
             ],
             [
              0.6666666666666666,
              "#ed7953"
             ],
             [
              0.7777777777777778,
              "#fb9f3a"
             ],
             [
              0.8888888888888888,
              "#fdca26"
             ],
             [
              1,
              "#f0f921"
             ]
            ],
            "type": "histogram2dcontour"
           }
          ],
          "mesh3d": [
           {
            "colorbar": {
             "outlinewidth": 0,
             "ticks": ""
            },
            "type": "mesh3d"
           }
          ],
          "parcoords": [
           {
            "line": {
             "colorbar": {
              "outlinewidth": 0,
              "ticks": ""
             }
            },
            "type": "parcoords"
           }
          ],
          "pie": [
           {
            "automargin": true,
            "type": "pie"
           }
          ],
          "scatter": [
           {
            "marker": {
             "colorbar": {
              "outlinewidth": 0,
              "ticks": ""
             }
            },
            "type": "scatter"
           }
          ],
          "scatter3d": [
           {
            "line": {
             "colorbar": {
              "outlinewidth": 0,
              "ticks": ""
             }
            },
            "marker": {
             "colorbar": {
              "outlinewidth": 0,
              "ticks": ""
             }
            },
            "type": "scatter3d"
           }
          ],
          "scattercarpet": [
           {
            "marker": {
             "colorbar": {
              "outlinewidth": 0,
              "ticks": ""
             }
            },
            "type": "scattercarpet"
           }
          ],
          "scattergeo": [
           {
            "marker": {
             "colorbar": {
              "outlinewidth": 0,
              "ticks": ""
             }
            },
            "type": "scattergeo"
           }
          ],
          "scattergl": [
           {
            "marker": {
             "colorbar": {
              "outlinewidth": 0,
              "ticks": ""
             }
            },
            "type": "scattergl"
           }
          ],
          "scattermapbox": [
           {
            "marker": {
             "colorbar": {
              "outlinewidth": 0,
              "ticks": ""
             }
            },
            "type": "scattermapbox"
           }
          ],
          "scatterpolar": [
           {
            "marker": {
             "colorbar": {
              "outlinewidth": 0,
              "ticks": ""
             }
            },
            "type": "scatterpolar"
           }
          ],
          "scatterpolargl": [
           {
            "marker": {
             "colorbar": {
              "outlinewidth": 0,
              "ticks": ""
             }
            },
            "type": "scatterpolargl"
           }
          ],
          "scatterternary": [
           {
            "marker": {
             "colorbar": {
              "outlinewidth": 0,
              "ticks": ""
             }
            },
            "type": "scatterternary"
           }
          ],
          "surface": [
           {
            "colorbar": {
             "outlinewidth": 0,
             "ticks": ""
            },
            "colorscale": [
             [
              0,
              "#0d0887"
             ],
             [
              0.1111111111111111,
              "#46039f"
             ],
             [
              0.2222222222222222,
              "#7201a8"
             ],
             [
              0.3333333333333333,
              "#9c179e"
             ],
             [
              0.4444444444444444,
              "#bd3786"
             ],
             [
              0.5555555555555556,
              "#d8576b"
             ],
             [
              0.6666666666666666,
              "#ed7953"
             ],
             [
              0.7777777777777778,
              "#fb9f3a"
             ],
             [
              0.8888888888888888,
              "#fdca26"
             ],
             [
              1,
              "#f0f921"
             ]
            ],
            "type": "surface"
           }
          ],
          "table": [
           {
            "cells": {
             "fill": {
              "color": "#EBF0F8"
             },
             "line": {
              "color": "white"
             }
            },
            "header": {
             "fill": {
              "color": "#C8D4E3"
             },
             "line": {
              "color": "white"
             }
            },
            "type": "table"
           }
          ]
         },
         "layout": {
          "annotationdefaults": {
           "arrowcolor": "#2a3f5f",
           "arrowhead": 0,
           "arrowwidth": 1
          },
          "autotypenumbers": "strict",
          "coloraxis": {
           "colorbar": {
            "outlinewidth": 0,
            "ticks": ""
           }
          },
          "colorscale": {
           "diverging": [
            [
             0,
             "#8e0152"
            ],
            [
             0.1,
             "#c51b7d"
            ],
            [
             0.2,
             "#de77ae"
            ],
            [
             0.3,
             "#f1b6da"
            ],
            [
             0.4,
             "#fde0ef"
            ],
            [
             0.5,
             "#f7f7f7"
            ],
            [
             0.6,
             "#e6f5d0"
            ],
            [
             0.7,
             "#b8e186"
            ],
            [
             0.8,
             "#7fbc41"
            ],
            [
             0.9,
             "#4d9221"
            ],
            [
             1,
             "#276419"
            ]
           ],
           "sequential": [
            [
             0,
             "#0d0887"
            ],
            [
             0.1111111111111111,
             "#46039f"
            ],
            [
             0.2222222222222222,
             "#7201a8"
            ],
            [
             0.3333333333333333,
             "#9c179e"
            ],
            [
             0.4444444444444444,
             "#bd3786"
            ],
            [
             0.5555555555555556,
             "#d8576b"
            ],
            [
             0.6666666666666666,
             "#ed7953"
            ],
            [
             0.7777777777777778,
             "#fb9f3a"
            ],
            [
             0.8888888888888888,
             "#fdca26"
            ],
            [
             1,
             "#f0f921"
            ]
           ],
           "sequentialminus": [
            [
             0,
             "#0d0887"
            ],
            [
             0.1111111111111111,
             "#46039f"
            ],
            [
             0.2222222222222222,
             "#7201a8"
            ],
            [
             0.3333333333333333,
             "#9c179e"
            ],
            [
             0.4444444444444444,
             "#bd3786"
            ],
            [
             0.5555555555555556,
             "#d8576b"
            ],
            [
             0.6666666666666666,
             "#ed7953"
            ],
            [
             0.7777777777777778,
             "#fb9f3a"
            ],
            [
             0.8888888888888888,
             "#fdca26"
            ],
            [
             1,
             "#f0f921"
            ]
           ]
          },
          "colorway": [
           "#636efa",
           "#EF553B",
           "#00cc96",
           "#ab63fa",
           "#FFA15A",
           "#19d3f3",
           "#FF6692",
           "#B6E880",
           "#FF97FF",
           "#FECB52"
          ],
          "font": {
           "color": "#2a3f5f"
          },
          "geo": {
           "bgcolor": "white",
           "lakecolor": "white",
           "landcolor": "#E5ECF6",
           "showlakes": true,
           "showland": true,
           "subunitcolor": "white"
          },
          "hoverlabel": {
           "align": "left"
          },
          "hovermode": "closest",
          "mapbox": {
           "style": "light"
          },
          "paper_bgcolor": "white",
          "plot_bgcolor": "#E5ECF6",
          "polar": {
           "angularaxis": {
            "gridcolor": "white",
            "linecolor": "white",
            "ticks": ""
           },
           "bgcolor": "#E5ECF6",
           "radialaxis": {
            "gridcolor": "white",
            "linecolor": "white",
            "ticks": ""
           }
          },
          "scene": {
           "xaxis": {
            "backgroundcolor": "#E5ECF6",
            "gridcolor": "white",
            "gridwidth": 2,
            "linecolor": "white",
            "showbackground": true,
            "ticks": "",
            "zerolinecolor": "white"
           },
           "yaxis": {
            "backgroundcolor": "#E5ECF6",
            "gridcolor": "white",
            "gridwidth": 2,
            "linecolor": "white",
            "showbackground": true,
            "ticks": "",
            "zerolinecolor": "white"
           },
           "zaxis": {
            "backgroundcolor": "#E5ECF6",
            "gridcolor": "white",
            "gridwidth": 2,
            "linecolor": "white",
            "showbackground": true,
            "ticks": "",
            "zerolinecolor": "white"
           }
          },
          "shapedefaults": {
           "line": {
            "color": "#2a3f5f"
           }
          },
          "ternary": {
           "aaxis": {
            "gridcolor": "white",
            "linecolor": "white",
            "ticks": ""
           },
           "baxis": {
            "gridcolor": "white",
            "linecolor": "white",
            "ticks": ""
           },
           "bgcolor": "#E5ECF6",
           "caxis": {
            "gridcolor": "white",
            "linecolor": "white",
            "ticks": ""
           }
          },
          "title": {
           "x": 0.05
          },
          "xaxis": {
           "automargin": true,
           "gridcolor": "white",
           "linecolor": "white",
           "ticks": "",
           "title": {
            "standoff": 15
           },
           "zerolinecolor": "white",
           "zerolinewidth": 2
          },
          "yaxis": {
           "automargin": true,
           "gridcolor": "white",
           "linecolor": "white",
           "ticks": "",
           "title": {
            "standoff": 15
           },
           "zerolinecolor": "white",
           "zerolinewidth": 2
          }
         }
        },
        "xaxis": {
         "autorange": true,
         "range": [
          "2021-02-16 12:00",
          "2021-03-26 12:00"
         ],
         "rangeslider": {
          "autorange": true,
          "range": [
           "2021-02-16 12:00",
           "2021-03-26 12:00"
          ],
          "yaxis": {
           "_template": null,
           "rangemode": "match"
          }
         },
         "type": "date"
        },
        "yaxis": {
         "autorange": true,
         "range": [
          9.704444938235813,
          11.015555328792995
         ]
        }
       }
      },
      "image/png": "[encoded data removed]",
      "text/html": [
       "<div>                            <div id=\"bc38902b-f999-4c14-a43f-616cb1b4d242\" class=\"plotly-graph-div\" style=\"height:525px; width:100%;\"></div>            <script type=\"text/javascript\">                require([\"plotly\"], function(Plotly) {                    window.PLOTLYENV=window.PLOTLYENV || {};                                    if (document.getElementById(\"bc38902b-f999-4c14-a43f-616cb1b4d242\")) {                    Plotly.newPlot(                        \"bc38902b-f999-4c14-a43f-616cb1b4d242\",                        [{\"close\": [10.65999984741211, 10.800000190734863, 10.550000190734863, 10.520000457763672, 10.460000038146973, 10.399999618530273, 10.40999984741211, 10.319999694824219, 10.380000114440918, 10.170000076293945, 10.149999618530273, 10.050000190734863, 10.260000228881836, 10.260000228881836, 10.130000114440918, 10.25, 10.15999984741211, 10.109999656677246, 10.128000259399414, 10.1899995803833, 10.149999618530273, 10.09000015258789, 9.970000267028809, 9.960000038146973, 9.979999542236328, 9.920000076293945, 9.9399995803833, 9.949999809265137], \"high\": [10.84000015258789, 10.949999809265137, 10.949999809265137, 10.720000267028809, 10.609999656677246, 10.600000381469727, 10.520000457763672, 10.430000305175781, 10.600000381469727, 10.510000228881836, 10.399999618530273, 10.140000343322754, 10.4399995803833, 10.300000190734863, 10.199999809265137, 10.25, 10.15999984741211, 10.149999618530273, 10.128000259399414, 10.239999771118164, 10.149999618530273, 10.1899995803833, 10.0600004196167, 9.979999542236328, 9.979999542236328, 9.960000038146973, 9.949000358581543, 9.949999809265137], \"low\": [10.619999885559082, 10.670000076293945, 10.539999961853027, 10.40999984741211, 10.399999618530273, 10.390000343322754, 10.399999618530273, 10.274999618530273, 10.319999694824219, 10.109999656677246, 10.149999618530273, 10.020000457763672, 10.050000190734863, 10.199999809265137, 10.079999923706055, 10.130000114440918, 10.15999984741211, 10.0600004196167, 10.086999893188477, 10.109999656677246, 10.079999923706055, 10.079999923706055, 9.960000038146973, 9.84000015258789, 9.930000305175781, 9.899999618530273, 9.770000457763672, 9.949999809265137], \"open\": [10.649999618530273, 10.699999809265137, 10.850000381469727, 10.720000267028809, 10.420000076293945, 10.399999618530273, 10.430000305175781, 10.40999984741211, 10.470000267028809, 10.279999732971191, 10.229999542236328, 10.140000343322754, 10.050000190734863, 10.229999542236328, 10.199999809265137, 10.194999694824219, 10.15999984741211, 10.0600004196167, 10.09000015258789, 10.109999656677246, 10.149999618530273, 10.1899995803833, 10.0600004196167, 9.949999809265137, 9.930000305175781, 9.95300006866455, 9.859999656677246, 9.949999809265137], \"type\": \"candlestick\", \"x\": [\"2021-02-17T00:00:00\", \"2021-02-18T00:00:00\", \"2021-02-19T00:00:00\", \"2021-02-22T00:00:00\", \"2021-02-23T00:00:00\", \"2021-02-24T00:00:00\", \"2021-02-25T00:00:00\", \"2021-02-26T00:00:00\", \"2021-03-01T00:00:00\", \"2021-03-02T00:00:00\", \"2021-03-03T00:00:00\", \"2021-03-04T00:00:00\", \"2021-03-05T00:00:00\", \"2021-03-08T00:00:00\", \"2021-03-09T00:00:00\", \"2021-03-10T00:00:00\", \"2021-03-11T00:00:00\", \"2021-03-12T00:00:00\", \"2021-03-15T00:00:00\", \"2021-03-16T00:00:00\", \"2021-03-17T00:00:00\", \"2021-03-18T00:00:00\", \"2021-03-19T00:00:00\", \"2021-03-22T00:00:00\", \"2021-03-23T00:00:00\", \"2021-03-24T00:00:00\", \"2021-03-25T00:00:00\", \"2021-03-26T00:00:00\"]}],                        {\"template\": {\"data\": {\"bar\": [{\"error_x\": {\"color\": \"#2a3f5f\"}, \"error_y\": {\"color\": \"#2a3f5f\"}, \"marker\": {\"line\": {\"color\": \"#E5ECF6\", \"width\": 0.5}}, \"type\": \"bar\"}], \"barpolar\": [{\"marker\": {\"line\": {\"color\": \"#E5ECF6\", \"width\": 0.5}}, \"type\": \"barpolar\"}], \"carpet\": [{\"aaxis\": {\"endlinecolor\": \"#2a3f5f\", \"gridcolor\": \"white\", \"linecolor\": \"white\", \"minorgridcolor\": \"white\", \"startlinecolor\": \"#2a3f5f\"}, \"baxis\": {\"endlinecolor\": \"#2a3f5f\", \"gridcolor\": \"white\", \"linecolor\": \"white\", \"minorgridcolor\": \"white\", \"startlinecolor\": \"#2a3f5f\"}, \"type\": \"carpet\"}], \"choropleth\": [{\"colorbar\": {\"outlinewidth\": 0, \"ticks\": \"\"}, \"type\": \"choropleth\"}], \"contour\": [{\"colorbar\": {\"outlinewidth\": 0, \"ticks\": \"\"}, \"colorscale\": [[0.0, \"#0d0887\"], [0.1111111111111111, \"#46039f\"], [0.2222222222222222, \"#7201a8\"], [0.3333333333333333, \"#9c179e\"], [0.4444444444444444, \"#bd3786\"], [0.5555555555555556, \"#d8576b\"], [0.6666666666666666, \"#ed7953\"], [0.7777777777777778, \"#fb9f3a\"], [0.8888888888888888, \"#fdca26\"], [1.0, \"#f0f921\"]], \"type\": \"contour\"}], \"contourcarpet\": [{\"colorbar\": {\"outlinewidth\": 0, \"ticks\": \"\"}, \"type\": \"contourcarpet\"}], \"heatmap\": [{\"colorbar\": {\"outlinewidth\": 0, \"ticks\": \"\"}, \"colorscale\": [[0.0, \"#0d0887\"], [0.1111111111111111, \"#46039f\"], [0.2222222222222222, \"#7201a8\"], [0.3333333333333333, \"#9c179e\"], [0.4444444444444444, \"#bd3786\"], [0.5555555555555556, \"#d8576b\"], [0.6666666666666666, \"#ed7953\"], [0.7777777777777778, \"#fb9f3a\"], [0.8888888888888888, \"#fdca26\"], [1.0, \"#f0f921\"]], \"type\": \"heatmap\"}], \"heatmapgl\": [{\"colorbar\": {\"outlinewidth\": 0, \"ticks\": \"\"}, \"colorscale\": [[0.0, \"#0d0887\"], [0.1111111111111111, \"#46039f\"], [0.2222222222222222, \"#7201a8\"], [0.3333333333333333, \"#9c179e\"], [0.4444444444444444, \"#bd3786\"], [0.5555555555555556, \"#d8576b\"], [0.6666666666666666, \"#ed7953\"], [0.7777777777777778, \"#fb9f3a\"], [0.8888888888888888, \"#fdca26\"], [1.0, \"#f0f921\"]], \"type\": \"heatmapgl\"}], \"histogram\": [{\"marker\": {\"colorbar\": {\"outlinewidth\": 0, \"ticks\": \"\"}}, \"type\": \"histogram\"}], \"histogram2d\": [{\"colorbar\": {\"outlinewidth\": 0, \"ticks\": \"\"}, \"colorscale\": [[0.0, \"#0d0887\"], [0.1111111111111111, \"#46039f\"], [0.2222222222222222, \"#7201a8\"], [0.3333333333333333, \"#9c179e\"], [0.4444444444444444, \"#bd3786\"], [0.5555555555555556, \"#d8576b\"], [0.6666666666666666, \"#ed7953\"], [0.7777777777777778, \"#fb9f3a\"], [0.8888888888888888, \"#fdca26\"], [1.0, \"#f0f921\"]], \"type\": \"histogram2d\"}], \"histogram2dcontour\": [{\"colorbar\": {\"outlinewidth\": 0, \"ticks\": \"\"}, \"colorscale\": [[0.0, \"#0d0887\"], [0.1111111111111111, \"#46039f\"], [0.2222222222222222, \"#7201a8\"], [0.3333333333333333, \"#9c179e\"], [0.4444444444444444, \"#bd3786\"], [0.5555555555555556, \"#d8576b\"], [0.6666666666666666, \"#ed7953\"], [0.7777777777777778, \"#fb9f3a\"], [0.8888888888888888, \"#fdca26\"], [1.0, \"#f0f921\"]], \"type\": \"histogram2dcontour\"}], \"mesh3d\": [{\"colorbar\": {\"outlinewidth\": 0, \"ticks\": \"\"}, \"type\": \"mesh3d\"}], \"parcoords\": [{\"line\": {\"colorbar\": {\"outlinewidth\": 0, \"ticks\": \"\"}}, \"type\": \"parcoords\"}], \"pie\": [{\"automargin\": true, \"type\": \"pie\"}], \"scatter\": [{\"marker\": {\"colorbar\": {\"outlinewidth\": 0, \"ticks\": \"\"}}, \"type\": \"scatter\"}], \"scatter3d\": [{\"line\": {\"colorbar\": {\"outlinewidth\": 0, \"ticks\": \"\"}}, \"marker\": {\"colorbar\": {\"outlinewidth\": 0, \"ticks\": \"\"}}, \"type\": \"scatter3d\"}], \"scattercarpet\": [{\"marker\": {\"colorbar\": {\"outlinewidth\": 0, \"ticks\": \"\"}}, \"type\": \"scattercarpet\"}], \"scattergeo\": [{\"marker\": {\"colorbar\": {\"outlinewidth\": 0, \"ticks\": \"\"}}, \"type\": \"scattergeo\"}], \"scattergl\": [{\"marker\": {\"colorbar\": {\"outlinewidth\": 0, \"ticks\": \"\"}}, \"type\": \"scattergl\"}], \"scattermapbox\": [{\"marker\": {\"colorbar\": {\"outlinewidth\": 0, \"ticks\": \"\"}}, \"type\": \"scattermapbox\"}], \"scatterpolar\": [{\"marker\": {\"colorbar\": {\"outlinewidth\": 0, \"ticks\": \"\"}}, \"type\": \"scatterpolar\"}], \"scatterpolargl\": [{\"marker\": {\"colorbar\": {\"outlinewidth\": 0, \"ticks\": \"\"}}, \"type\": \"scatterpolargl\"}], \"scatterternary\": [{\"marker\": {\"colorbar\": {\"outlinewidth\": 0, \"ticks\": \"\"}}, \"type\": \"scatterternary\"}], \"surface\": [{\"colorbar\": {\"outlinewidth\": 0, \"ticks\": \"\"}, \"colorscale\": [[0.0, \"#0d0887\"], [0.1111111111111111, \"#46039f\"], [0.2222222222222222, \"#7201a8\"], [0.3333333333333333, \"#9c179e\"], [0.4444444444444444, \"#bd3786\"], [0.5555555555555556, \"#d8576b\"], [0.6666666666666666, \"#ed7953\"], [0.7777777777777778, \"#fb9f3a\"], [0.8888888888888888, \"#fdca26\"], [1.0, \"#f0f921\"]], \"type\": \"surface\"}], \"table\": [{\"cells\": {\"fill\": {\"color\": \"#EBF0F8\"}, \"line\": {\"color\": \"white\"}}, \"header\": {\"fill\": {\"color\": \"#C8D4E3\"}, \"line\": {\"color\": \"white\"}}, \"type\": \"table\"}]}, \"layout\": {\"annotationdefaults\": {\"arrowcolor\": \"#2a3f5f\", \"arrowhead\": 0, \"arrowwidth\": 1}, \"autotypenumbers\": \"strict\", \"coloraxis\": {\"colorbar\": {\"outlinewidth\": 0, \"ticks\": \"\"}}, \"colorscale\": {\"diverging\": [[0, \"#8e0152\"], [0.1, \"#c51b7d\"], [0.2, \"#de77ae\"], [0.3, \"#f1b6da\"], [0.4, \"#fde0ef\"], [0.5, \"#f7f7f7\"], [0.6, \"#e6f5d0\"], [0.7, \"#b8e186\"], [0.8, \"#7fbc41\"], [0.9, \"#4d9221\"], [1, \"#276419\"]], \"sequential\": [[0.0, \"#0d0887\"], [0.1111111111111111, \"#46039f\"], [0.2222222222222222, \"#7201a8\"], [0.3333333333333333, \"#9c179e\"], [0.4444444444444444, \"#bd3786\"], [0.5555555555555556, \"#d8576b\"], [0.6666666666666666, \"#ed7953\"], [0.7777777777777778, \"#fb9f3a\"], [0.8888888888888888, \"#fdca26\"], [1.0, \"#f0f921\"]], \"sequentialminus\": [[0.0, \"#0d0887\"], [0.1111111111111111, \"#46039f\"], [0.2222222222222222, \"#7201a8\"], [0.3333333333333333, \"#9c179e\"], [0.4444444444444444, \"#bd3786\"], [0.5555555555555556, \"#d8576b\"], [0.6666666666666666, \"#ed7953\"], [0.7777777777777778, \"#fb9f3a\"], [0.8888888888888888, \"#fdca26\"], [1.0, \"#f0f921\"]]}, \"colorway\": [\"#636efa\", \"#EF553B\", \"#00cc96\", \"#ab63fa\", \"#FFA15A\", \"#19d3f3\", \"#FF6692\", \"#B6E880\", \"#FF97FF\", \"#FECB52\"], \"font\": {\"color\": \"#2a3f5f\"}, \"geo\": {\"bgcolor\": \"white\", \"lakecolor\": \"white\", \"landcolor\": \"#E5ECF6\", \"showlakes\": true, \"showland\": true, \"subunitcolor\": \"white\"}, \"hoverlabel\": {\"align\": \"left\"}, \"hovermode\": \"closest\", \"mapbox\": {\"style\": \"light\"}, \"paper_bgcolor\": \"white\", \"plot_bgcolor\": \"#E5ECF6\", \"polar\": {\"angularaxis\": {\"gridcolor\": \"white\", \"linecolor\": \"white\", \"ticks\": \"\"}, \"bgcolor\": \"#E5ECF6\", \"radialaxis\": {\"gridcolor\": \"white\", \"linecolor\": \"white\", \"ticks\": \"\"}}, \"scene\": {\"xaxis\": {\"backgroundcolor\": \"#E5ECF6\", \"gridcolor\": \"white\", \"gridwidth\": 2, \"linecolor\": \"white\", \"showbackground\": true, \"ticks\": \"\", \"zerolinecolor\": \"white\"}, \"yaxis\": {\"backgroundcolor\": \"#E5ECF6\", \"gridcolor\": \"white\", \"gridwidth\": 2, \"linecolor\": \"white\", \"showbackground\": true, \"ticks\": \"\", \"zerolinecolor\": \"white\"}, \"zaxis\": {\"backgroundcolor\": \"#E5ECF6\", \"gridcolor\": \"white\", \"gridwidth\": 2, \"linecolor\": \"white\", \"showbackground\": true, \"ticks\": \"\", \"zerolinecolor\": \"white\"}}, \"shapedefaults\": {\"line\": {\"color\": \"#2a3f5f\"}}, \"ternary\": {\"aaxis\": {\"gridcolor\": \"white\", \"linecolor\": \"white\", \"ticks\": \"\"}, \"baxis\": {\"gridcolor\": \"white\", \"linecolor\": \"white\", \"ticks\": \"\"}, \"bgcolor\": \"#E5ECF6\", \"caxis\": {\"gridcolor\": \"white\", \"linecolor\": \"white\", \"ticks\": \"\"}}, \"title\": {\"x\": 0.05}, \"xaxis\": {\"automargin\": true, \"gridcolor\": \"white\", \"linecolor\": \"white\", \"ticks\": \"\", \"title\": {\"standoff\": 15}, \"zerolinecolor\": \"white\", \"zerolinewidth\": 2}, \"yaxis\": {\"automargin\": true, \"gridcolor\": \"white\", \"linecolor\": \"white\", \"ticks\": \"\", \"title\": {\"standoff\": 15}, \"zerolinecolor\": \"white\", \"zerolinewidth\": 2}}}},                        {\"responsive\": true}                    ).then(function(){\n",
       "                            \n",
       "var gd = document.getElementById('bc38902b-f999-4c14-a43f-616cb1b4d242');\n",
       "var x = new MutationObserver(function (mutations, observer) {{\n",
       "        var display = window.getComputedStyle(gd).display;\n",
       "        if (!display || display === 'none') {{\n",
       "            console.log([gd, 'removed!']);\n",
       "            Plotly.purge(gd);\n",
       "            observer.disconnect();\n",
       "        }}\n",
       "}});\n",
       "\n",
       "// Listen for the removal of the full notebook cells\n",
       "var notebookContainer = gd.closest('#notebook-container');\n",
       "if (notebookContainer) {{\n",
       "    x.observe(notebookContainer, {childList: true});\n",
       "}}\n",
       "\n",
       "// Listen for the clearing of the current output cell\n",
       "var outputEl = gd.closest('.output');\n",
       "if (outputEl) {{\n",
       "    x.observe(outputEl, {childList: true});\n",
       "}}\n",
       "\n",
       "                        })                };                });            </script>        </div>"
      ]
     },
     "metadata": {},
     "output_type": "display_data"
    }
   ],
   "source": [
    "fig = go.Figure(data=[go.Candlestick(x=hist['Date'],\n",
    "                                   open=hist['Open'],\n",
    "                                    high=hist['High'],\n",
    "                                    low=hist['Low'],\n",
    "                                    close=hist['Close'])])\n",
    "fig.show()"
   ]
  },
  {
   "cell_type": "code",
   "execution_count": 19,
   "id": "velvet-steel",
   "metadata": {},
   "outputs": [
    {
     "data": {
      "text/plain": [
       "Open            float64\n",
       "High            float64\n",
       "Low             float64\n",
       "Close           float64\n",
       "Volume            int64\n",
       "Dividends       float64\n",
       "Stock Splits    float64\n",
       "dtype: object"
      ]
     },
     "execution_count": 19,
     "metadata": {},
     "output_type": "execute_result"
    }
   ],
   "source": [
    "hist.dtypes"
   ]
  },
  {
   "cell_type": "code",
   "execution_count": 11,
   "id": "broad-saint",
   "metadata": {},
   "outputs": [
    {
     "data": {
      "text/html": [
       "<div>\n",
       "<style scoped>\n",
       "    .dataframe tbody tr th:only-of-type {\n",
       "        vertical-align: middle;\n",
       "    }\n",
       "\n",
       "    .dataframe tbody tr th {\n",
       "        vertical-align: top;\n",
       "    }\n",
       "\n",
       "    .dataframe thead th {\n",
       "        text-align: right;\n",
       "    }\n",
       "</style>\n",
       "<table border=\"1\" class=\"dataframe\">\n",
       "  <thead>\n",
       "    <tr style=\"text-align: right;\">\n",
       "      <th></th>\n",
       "      <th>Dividends</th>\n",
       "      <th>Stock Splits</th>\n",
       "    </tr>\n",
       "    <tr>\n",
       "      <th>Date</th>\n",
       "      <th></th>\n",
       "      <th></th>\n",
       "    </tr>\n",
       "  </thead>\n",
       "  <tbody>\n",
       "    <tr>\n",
       "      <th>1987-09-21</th>\n",
       "      <td>0.00</td>\n",
       "      <td>2.0</td>\n",
       "    </tr>\n",
       "    <tr>\n",
       "      <th>1990-04-16</th>\n",
       "      <td>0.00</td>\n",
       "      <td>2.0</td>\n",
       "    </tr>\n",
       "    <tr>\n",
       "      <th>1991-06-27</th>\n",
       "      <td>0.00</td>\n",
       "      <td>1.5</td>\n",
       "    </tr>\n",
       "    <tr>\n",
       "      <th>1992-06-15</th>\n",
       "      <td>0.00</td>\n",
       "      <td>1.5</td>\n",
       "    </tr>\n",
       "    <tr>\n",
       "      <th>1994-05-23</th>\n",
       "      <td>0.00</td>\n",
       "      <td>2.0</td>\n",
       "    </tr>\n",
       "    <tr>\n",
       "      <th>...</th>\n",
       "      <td>...</td>\n",
       "      <td>...</td>\n",
       "    </tr>\n",
       "    <tr>\n",
       "      <th>2020-02-19</th>\n",
       "      <td>0.51</td>\n",
       "      <td>0.0</td>\n",
       "    </tr>\n",
       "    <tr>\n",
       "      <th>2020-05-20</th>\n",
       "      <td>0.51</td>\n",
       "      <td>0.0</td>\n",
       "    </tr>\n",
       "    <tr>\n",
       "      <th>2020-08-19</th>\n",
       "      <td>0.51</td>\n",
       "      <td>0.0</td>\n",
       "    </tr>\n",
       "    <tr>\n",
       "      <th>2020-11-18</th>\n",
       "      <td>0.56</td>\n",
       "      <td>0.0</td>\n",
       "    </tr>\n",
       "    <tr>\n",
       "      <th>2021-02-17</th>\n",
       "      <td>0.56</td>\n",
       "      <td>0.0</td>\n",
       "    </tr>\n",
       "  </tbody>\n",
       "</table>\n",
       "<p>78 rows × 2 columns</p>\n",
       "</div>"
      ],
      "text/plain": [
       "            Dividends  Stock Splits\n",
       "Date                               \n",
       "1987-09-21       0.00           2.0\n",
       "1990-04-16       0.00           2.0\n",
       "1991-06-27       0.00           1.5\n",
       "1992-06-15       0.00           1.5\n",
       "1994-05-23       0.00           2.0\n",
       "...               ...           ...\n",
       "2020-02-19       0.51           0.0\n",
       "2020-05-20       0.51           0.0\n",
       "2020-08-19       0.51           0.0\n",
       "2020-11-18       0.56           0.0\n",
       "2021-02-17       0.56           0.0\n",
       "\n",
       "[78 rows x 2 columns]"
      ]
     },
     "execution_count": 11,
     "metadata": {},
     "output_type": "execute_result"
    }
   ],
   "source": [
    "# show actions (dividends, splits)\n",
    "msft.actions"
   ]
  },
  {
   "cell_type": "code",
   "execution_count": null,
   "id": "corporate-formation",
   "metadata": {},
   "outputs": [],
   "source": [
    "# show dividends\n",
    "msft.dividends"
   ]
  },
  {
   "cell_type": "code",
   "execution_count": null,
   "id": "still-footwear",
   "metadata": {},
   "outputs": [],
   "source": [
    "# show splits\n",
    "msft.splits"
   ]
  },
  {
   "cell_type": "code",
   "execution_count": null,
   "id": "composed-motel",
   "metadata": {},
   "outputs": [],
   "source": [
    "# show financials\n",
    "print(msft.financials)\n",
    "msft.quarterly_financials\n"
   ]
  },
  {
   "cell_type": "code",
   "execution_count": null,
   "id": "former-switch",
   "metadata": {},
   "outputs": [],
   "source": [
    "# show major holders\n",
    "msft.major_holders"
   ]
  },
  {
   "cell_type": "code",
   "execution_count": null,
   "id": "split-lodging",
   "metadata": {},
   "outputs": [],
   "source": [
    "# show institutional holders\n",
    "msft.institutional_holders"
   ]
  },
  {
   "cell_type": "code",
   "execution_count": null,
   "id": "continuing-gravity",
   "metadata": {},
   "outputs": [],
   "source": [
    "# show balance sheet\n",
    "msft.balance_sheet\n",
    "msft.quarterly_balance_sheet\n"
   ]
  },
  {
   "cell_type": "code",
   "execution_count": null,
   "id": "changed-morrison",
   "metadata": {},
   "outputs": [],
   "source": [
    "# show cashflow\n",
    "msft.cashflow\n",
    "msft.quarterly_cashflow\n"
   ]
  },
  {
   "cell_type": "code",
   "execution_count": null,
   "id": "developed-virtue",
   "metadata": {},
   "outputs": [],
   "source": [
    "# show earnings\n",
    "msft.earnings\n",
    "msft.quarterly_earnings"
   ]
  },
  {
   "cell_type": "code",
   "execution_count": null,
   "id": "alternative-cloud",
   "metadata": {},
   "outputs": [],
   "source": [
    "\n",
    "# show sustainability\n",
    "msft.sustainability\n"
   ]
  },
  {
   "cell_type": "code",
   "execution_count": null,
   "id": "accomplished-boost",
   "metadata": {},
   "outputs": [],
   "source": [
    "\n",
    "# show analysts recommendations\n",
    "msft.recommendations"
   ]
  },
  {
   "cell_type": "code",
   "execution_count": null,
   "id": "judicial-garden",
   "metadata": {},
   "outputs": [],
   "source": [
    "\n",
    "# show next event (earnings, etc)\n",
    "msft.calendar\n",
    "\n"
   ]
  },
  {
   "cell_type": "code",
   "execution_count": null,
   "id": "demanding-hacker",
   "metadata": {},
   "outputs": [],
   "source": [
    "# show ISIN code - *experimental*\n",
    "# ISIN = International Securities Identification Number\n",
    "msft.isin\n"
   ]
  },
  {
   "cell_type": "code",
   "execution_count": null,
   "id": "announced-swiss",
   "metadata": {},
   "outputs": [],
   "source": [
    "# show options expirations\n",
    "msft.options"
   ]
  },
  {
   "cell_type": "code",
   "execution_count": null,
   "id": "continent-habitat",
   "metadata": {},
   "outputs": [],
   "source": [
    "\n",
    "# get option chain for specific expiration\n",
    "opt = msft.option_chain('2021-03-26')\n",
    "# data available via: opt.calls, opt.puts"
   ]
  }
 ],
 "metadata": {
  "kernelspec": {
   "display_name": "Python 3",
   "language": "python",
   "name": "python3"
  },
  "language_info": {
   "codemirror_mode": {
    "name": "ipython",
    "version": 3
   },
   "file_extension": ".py",
   "mimetype": "text/x-python",
   "name": "python",
   "nbconvert_exporter": "python",
   "pygments_lexer": "ipython3",
   "version": "3.8.8"
  }
 },
 "nbformat": 4,
 "nbformat_minor": 5
}
